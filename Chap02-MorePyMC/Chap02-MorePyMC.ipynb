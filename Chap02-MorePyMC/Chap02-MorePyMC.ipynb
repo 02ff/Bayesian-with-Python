{
 "cells": [
  {
   "cell_type": "markdown",
   "metadata": {},
   "source": [
    "# Chap02 - More PyMC"
   ]
  },
  {
   "cell_type": "markdown",
   "metadata": {},
   "source": [
    "## 2.1 서론\n",
    "\n",
    "- `PyMC` 구문과 디자인 패턴에 대해 알 수 있다.\n",
    "- 베이지안 관점에서 시스템을 모델링 하는 방법을 알 수 있다.\n",
    "- 베이지안 모델의 적합도 평가 및 데이터 시각화 기법을 알 수 있다."
   ]
  },
  {
   "cell_type": "markdown",
   "metadata": {},
   "source": [
    "### 2.1.1 부모와 자식 관계\n",
    "\n",
    "> **부모변수**(Parent variable)는 다른 변수에 영항을 주는 변수다.\n",
    "\n",
    "> **자식변수**(Child variable)는 다른 변수의 영향을 받는 즉, 부모변수에 종속된다.\n",
    "\n",
    "어느 변수라도 부모변수가 될 수 있고, 동시에 자식변수가 될 수 있다."
   ]
  },
  {
   "cell_type": "code",
   "execution_count": 1,
   "metadata": {},
   "outputs": [],
   "source": [
    "import pymc as pm\n",
    "import matplotlib\n",
    "\n",
    "matplotlib.rc('font', family='NanumGothic')  # linux\n",
    "# matplotlib.rc('font', family='AppleGothic')  # Mac\n",
    "\n",
    "lambda_ = pm.Exponential('poisson_param', 1)\n",
    "# 다음 변수 호출에 사용된다.\n",
    "# lambda_는 data_generator의 부모변수다.\n",
    "data_generator = pm.Poisson('data_generator', lambda_)\n",
    "# data_generator는 data_plus_one의 부모변수다\n",
    "data_plus_one = data_generator + 1"
   ]
  },
  {
   "cell_type": "code",
   "execution_count": 2,
   "metadata": {},
   "outputs": [
    {
     "name": "stdout",
     "output_type": "stream",
     "text": [
      "Children of 'lambda_': \n",
      " {<pymc.distributions.new_dist_class.<locals>.new_class 'data_generator' at 0x7febd42f7da0>}\n",
      "\n",
      "Parents of 'data_generator': \n",
      " {'mu': <pymc.distributions.new_dist_class.<locals>.new_class 'poisson_param' at 0x7febd42f7e80>}\n",
      "\n",
      "Children of 'data_generator': \n",
      " {<pymc.PyMCObjects.Deterministic '(data_generator_add_1)' at 0x7febd42f7748>}\n"
     ]
    }
   ],
   "source": [
    "print(\"Children of 'lambda_': \\n\", lambda_.children)\n",
    "print(\"\\nParents of 'data_generator': \\n\", data_generator.parents)\n",
    "print(\"\\nChildren of 'data_generator': \\n\", data_generator.children)"
   ]
  },
  {
   "cell_type": "markdown",
   "metadata": {},
   "source": [
    " "
   ]
  },
  {
   "cell_type": "markdown",
   "metadata": {},
   "source": [
    "### 2.1.2 `PyMC` 변수\n",
    "\n",
    "모든 `PyMC`변수는 `value` 속성을 가진다. 이 속성을 통해 변수의 **현재값**(random한 값)을 생성한다.\n",
    "\n",
    "자식변수(child variable)의 값은 부모변수 값이 주어질 때 변경된다."
   ]
  },
  {
   "cell_type": "code",
   "execution_count": 3,
   "metadata": {},
   "outputs": [
    {
     "name": "stdout",
     "output_type": "stream",
     "text": [
      "lambda_.value = 0.04330518392458977\n",
      "data_generator.value = 0\n",
      "data_plus_one.value = 1\n"
     ]
    }
   ],
   "source": [
    "print('lambda_.value =', lambda_.value)\n",
    "print('data_generator.value =', data_generator.value)\n",
    "print('data_plus_one.value =', data_plus_one.value)"
   ]
  },
  {
   "cell_type": "markdown",
   "metadata": {},
   "source": [
    " "
   ]
  },
  {
   "cell_type": "markdown",
   "metadata": {},
   "source": [
    "`PyMC`은 `stochastic`과 `deterministic` 두 가지 변수를 가진다.\n",
    "- `stochastic` 변수는 값이 정해지지 않은 변수로 Random(난수)이며 `Poisson, DiscreteUniform, Exponential` 클래스의 인스턴스가 있다.\n",
    "- `deterministic` 변수는 고정된(?) 값이다. "
   ]
  },
  {
   "cell_type": "markdown",
   "metadata": {},
   "source": [
    "#### stochastic 변수 초기화\n",
    "\n",
    "```python\n",
    "some_variable = pm.DiscreteUniform('discrete_uni_var', 0, 4)\n",
    "```\n",
    "\n",
    "`0, 4`는 `DiscreteUniform`의 난수 하한선과 상한선이다. `name` arg는 분석 후반에 사후확률분포를 가져올 때 사용하므로 이름을 사용하는 것이 좋다."
   ]
  },
  {
   "cell_type": "code",
   "execution_count": 4,
   "metadata": {},
   "outputs": [
    {
     "data": {
      "text/plain": [
       "\u001b[0;31mInit signature:\u001b[0m \u001b[0mpm\u001b[0m\u001b[0;34m.\u001b[0m\u001b[0mDiscreteUniform\u001b[0m\u001b[0;34m(\u001b[0m\u001b[0;34m*\u001b[0m\u001b[0margs\u001b[0m\u001b[0;34m,\u001b[0m \u001b[0;34m**\u001b[0m\u001b[0mkwds\u001b[0m\u001b[0;34m)\u001b[0m\u001b[0;34m\u001b[0m\u001b[0m\n",
       "\u001b[0;31mDocstring:\u001b[0m     \n",
       "D = DiscreteUniform(name, lower, upper, value=None, observed=False, size=1, trace=True, rseed=True, doc=None, verbose=-1, debug=False)\n",
       "\n",
       "Stochastic variable with DiscreteUniform distribution.\n",
       "Parents are: lower, upper.\n",
       "\n",
       "Docstring of log-probability function:\n",
       "\n",
       "    Discrete uniform log-likelihood.\n",
       "\n",
       "    .. math::\n",
       "        f(x \\mid lower, upper) = \\frac{1}{upper-lower+1}\n",
       "\n",
       "    :Parameters:\n",
       "      - `x` : [int] :math:`x \\in \\{lower, lower+1, \\ldots, upper-1, upper\\}`\n",
       "      - `lower` : Lower limit.\n",
       "      - `upper` : Upper limit (upper > lower).\n",
       "\n",
       "    \n",
       "\u001b[0;31mFile:\u001b[0m           ~/anaconda3/envs/study/lib/python3.6/site-packages/pymc/distributions.py\n",
       "\u001b[0;31mType:\u001b[0m           StochasticMeta\n"
      ]
     },
     "metadata": {},
     "output_type": "display_data"
    }
   ],
   "source": [
    "# ??를 이용해 확인하기\n",
    "??pm.DiscreteUniform"
   ]
  },
  {
   "cell_type": "code",
   "execution_count": 5,
   "metadata": {},
   "outputs": [
    {
     "name": "stdout",
     "output_type": "stream",
     "text": [
      "stochastic : 3\n"
     ]
    }
   ],
   "source": [
    "some_variable = pm.DiscreteUniform('discrete_uni_var', 0, 4)\n",
    "print('stochastic :', some_variable.value)"
   ]
  },
  {
   "cell_type": "markdown",
   "metadata": {},
   "source": [
    " "
   ]
  },
  {
   "cell_type": "markdown",
   "metadata": {},
   "source": [
    "변수를 여러개를 랜덤하게 출력하고 싶을 경우 `size` keyword를 이용하여 독립적인 확률변수의 리스트가 만들어 진다."
   ]
  },
  {
   "cell_type": "code",
   "execution_count": 6,
   "metadata": {},
   "outputs": [
    {
     "name": "stdout",
     "output_type": "stream",
     "text": [
      "betas : [ 0.70306154  0.94839185  0.71569485  0.98129065  0.68459859  0.58179276\n",
      "  0.16934249  0.5849588   0.72492596  0.76424481]\n"
     ]
    }
   ],
   "source": [
    "betas = pm.Uniform('betas', 0, 1, size=10)\n",
    "print('betas :', betas.value)\n",
    "# ??pm.Uniform"
   ]
  },
  {
   "cell_type": "markdown",
   "metadata": {},
   "source": [
    " "
   ]
  },
  {
   "cell_type": "markdown",
   "metadata": {},
   "source": [
    "#### `random()` 호출하기\n",
    "\n",
    "`stochastic` 변수의 `random()` 메소드를 호출하여 새 난수값을 만들 수 있다."
   ]
  },
  {
   "cell_type": "code",
   "execution_count": 7,
   "metadata": {},
   "outputs": [
    {
     "name": "stdout",
     "output_type": "stream",
     "text": [
      "Initialized values...\n",
      "lambda_1.value = 0.439\n",
      "lambda_2.value = 1.108\n",
      "tau.value = 5.000 \n",
      "\n",
      "1.042378189189035 0.4471787834199512 0\n",
      "After calling random() on the variables...\n",
      "lambda_1.value = 1.042\n",
      "lambda_2.value = 0.447\n",
      "tau.value = 0.000\n"
     ]
    }
   ],
   "source": [
    "lambda_1 = pm.Exponential(\"lambda_1\", 1)\n",
    "lambda_2 = pm.Exponential('lambda_2', 1)\n",
    "tau = pm.DiscreteUniform('tau', lower=0, upper=10)\n",
    "\n",
    "print(\"Initialized values...\")\n",
    "print(\"lambda_1.value = %.3f\" % lambda_1.value)\n",
    "print(\"lambda_2.value = %.3f\" % lambda_2.value)\n",
    "print(\"tau.value = %.3f\" % tau.value, \"\\n\")\n",
    "print(lambda_1.random(), lambda_2.random(), tau.random())\n",
    "print(\"After calling random() on the variables...\")\n",
    "print(\"lambda_1.value = %.3f\" % lambda_1.value)\n",
    "print(\"lambda_2.value = %.3f\" % lambda_2.value)\n",
    "print(\"tau.value = %.3f\" % tau.value)"
   ]
  },
  {
   "cell_type": "markdown",
   "metadata": {},
   "source": [
    " "
   ]
  },
  {
   "cell_type": "markdown",
   "metadata": {},
   "source": [
    "#### deterministic 변수\n",
    "\n",
    "deterministic 변수는 아래와 같이 **데코레이터**를 이용해 정의해 줄 수 있다.\n",
    "\n",
    "```python\n",
    "@pm.deterministic\n",
    "def some_deterministic_var(v1=v1, ):\n",
    "    # type code here\n",
    "```"
   ]
  },
  {
   "cell_type": "code",
   "execution_count": 9,
   "metadata": {},
   "outputs": [
    {
     "data": {
      "text/plain": [
       "pymc.PyMCObjects.Deterministic"
      ]
     },
     "execution_count": 9,
     "metadata": {},
     "output_type": "execute_result"
    }
   ],
   "source": [
    "type(lambda_1 + lambda_2)"
   ]
  },
  {
   "cell_type": "code",
   "execution_count": null,
   "metadata": {},
   "outputs": [],
   "source": [
    "import numpy as "
   ]
  }
 ],
 "metadata": {
  "kernelspec": {
   "display_name": "Python 3",
   "language": "python",
   "name": "python3"
  },
  "language_info": {
   "codemirror_mode": {
    "name": "ipython",
    "version": 3
   },
   "file_extension": ".py",
   "mimetype": "text/x-python",
   "name": "python",
   "nbconvert_exporter": "python",
   "pygments_lexer": "ipython3",
   "version": "3.6.5"
  }
 },
 "nbformat": 4,
 "nbformat_minor": 2
}
