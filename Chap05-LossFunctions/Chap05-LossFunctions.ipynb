{
 "cells": [
  {
   "cell_type": "markdown",
   "metadata": {},
   "source": [
    "# Chap05 - 오히려 큰 손해를 보시겠습니까?"
   ]
  },
  {
   "cell_type": "markdown",
   "metadata": {},
   "source": [
    "# Would you rather lose an arm or a leg?"
   ]
  },
  {
   "cell_type": "markdown",
   "metadata": {},
   "source": [
    "## 5.1 서론\n",
    "\n",
    "> 어느 기상학자가 허리케인이\t그가\t사는\t도시를\t덮칠\t확률을\t예측하고\t있다.\t그는\t95%\t신뢰수준으로\t허리케인이\t\n",
    "도시를\t덮치지\t않을\t확률이\t99~100%\t사이라고\t추정한다.\t기상학자는\t자신의\t정확도에\t매우\t만족하며\t재난\t대피는\t필요\t없다고\t시청에\t권고하였다.\t그러나\t불행히도\t허리케인은\t도시를\t덮쳤고,\t도시는\t물에\t잠겼다.\n",
    "\n",
    "\n",
    "> ***\"정확하게 틀리는 것보다 대강 맞는 것이 더 낫다.\"***"
   ]
  },
  {
   "cell_type": "markdown",
   "metadata": {},
   "source": [
    " "
   ]
  },
  {
   "cell_type": "markdown",
   "metadata": {},
   "source": [
    "## 5.2 손실함수 - Loss Functions\n",
    "\n",
    "손실함수(loss function)에 대해 알아보자. 손실함수는 진짜(true) 모수의 함수이며 그 모수의 추정치다.\n",
    "\n",
    "$$\n",
    "L(\\theta, \\hat{\\theta} ) = f(\\theta, \\hat{\\theta})\n",
    "$$\n",
    "\n",
    "손실함수에서 중요한 점은 현재 추정치가 얼마나 나쁜지를 측정한다는 것이다. 손실함수의 값이 클수록, 추정치는 손실함수에 따라 더 나빠진다. 일반적인 손실함수의 예로는 **제곱오차손실(squared-error loss)** 이다.\n",
    "\n",
    "$$\n",
    "L\\left(\\theta, \\hat{\\theta}\\right) = \\left( \\theta - \\hat{\\theta} \\right)^{2}\n",
    "$$"
   ]
  },
  {
   "cell_type": "markdown",
   "metadata": {},
   "source": [
    "또한, 다음과 같이 비대칭 제곱오차손실함수(asymmetric squared-error loss function)도 있다.\n",
    "\n",
    "$$\n",
    "L\\left(\\theta, \\hat{\\theta} \\right)=\\begin{cases} \\left(\\theta - \\hat{\\theta} \\right)^{2} \\quad \\hat{\\theta} < \\theta \\\\ c\\left( \\theta - \\hat{\\theta} \\right)^{2} \\quad \\hat{\\theta} \\ge \\theta, 0<c<1  \\end{cases}\n",
    "$$\n",
    "\n",
    "위의 식은 진짜 모수보다 큰 값을 추정하는 것이 작은 값을 추정하는 것보다 낫다는 것을 보여준다. 예를 들어, 다음 달의 웹 트래픽을 추정하려는 경우 사용할 수 있는데, 여유있게 예상하여 서버 자원이 부족하게 배치되는 것을 피할 수 있기 때문이다."
   ]
  },
  {
   "cell_type": "markdown",
   "metadata": {},
   "source": [
    "**절대손실**(absolute-loss)함수는 오차가 선형적으로 증가하는 손실함수이다. \n",
    "\n",
    "$$\n",
    "L \\left( \\theta, \\hat{\\theta} \\right) = \\left| \\theta - \\hat{\\theta} \\right|\n",
    "$$"
   ]
  },
  {
   "cell_type": "markdown",
   "metadata": {},
   "source": [
    "손실함수는 (1) 수학적 용이성과 (2) 적용할 때 결과값이 크게 영향을 받지 않는다."
   ]
  },
  {
   "cell_type": "markdown",
   "metadata": {},
   "source": [
    " "
   ]
  },
  {
   "cell_type": "markdown",
   "metadata": {},
   "source": [
    "### 5.2.1 현실 세계에서의 손실함수\n",
    "\n",
    "베이지안 추론에서는 추론하고자 하는 (진짜) 모수가 사전/사후확률분포를 가진 확률변수라고 생각한다. 사후확률분포에서 뽑은 값은 모수의 참값이 될 수 있는 가능성이 있는 값이다. 따라서, 이러한 사후확률분포에서 **기대손실**(expected loss)를 계산한다. 기대손실은 사후확률분포에서 얻은 표본 한 개에 주어진 손실보다 참(true)손실에 대해 더 정확하게 추정한다."
   ]
  },
  {
   "cell_type": "code",
   "execution_count": null,
   "metadata": {},
   "outputs": [],
   "source": []
  }
 ],
 "metadata": {
  "kernelspec": {
   "display_name": "Python 3",
   "language": "python",
   "name": "python3"
  },
  "language_info": {
   "codemirror_mode": {
    "name": "ipython",
    "version": 3
   },
   "file_extension": ".py",
   "mimetype": "text/x-python",
   "name": "python",
   "nbconvert_exporter": "python",
   "pygments_lexer": "ipython3",
   "version": "3.6.5"
  }
 },
 "nbformat": 4,
 "nbformat_minor": 2
}
