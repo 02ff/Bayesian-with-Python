{
 "cells": [
  {
   "cell_type": "markdown",
   "metadata": {},
   "source": [
    "# Chap06 - 우선순위 바로잡기"
   ]
  },
  {
   "cell_type": "markdown",
   "metadata": {},
   "source": [
    "# Getting our priorities straight"
   ]
  },
  {
   "cell_type": "markdown",
   "metadata": {},
   "source": [
    " "
   ]
  },
  {
   "cell_type": "markdown",
   "metadata": {},
   "source": [
    "## 6.1 서론\n",
    "\n",
    "이 장에서는 \n",
    "\n",
    "> '적절한 사전확률분포를 어떻게 고를 것인가'\n",
    "\n",
    "를 다룬다. 또한, 데이터셋이 커질수록 사전확률분포의 영향력이 어떻게 변화하는지 보여주고, 사전확률분포와 선형회귀의 패널티 간의 관계에 대해 알아본다. "
   ]
  },
  {
   "cell_type": "markdown",
   "metadata": {},
   "source": [
    " "
   ]
  },
  {
   "cell_type": "markdown",
   "metadata": {},
   "source": [
    "## 6.2 주관적인 사전확률분포 vs 객관적인 사전확률분포\n",
    "\n",
    "베이지안 사전확률분포는 두 부류로 나눌 수 있다. \n",
    "\n",
    "1. **객관적인 사전확률분포**(objective priors)\n",
    "    - 데이터가 사후확률분포에 최대한 영향을 미칠 수 있도록 하는 것이 목적\n",
    "2. **주관적인 사전확률분포**(subjective priors)\n",
    "    - 실무자가 사전확률분포에 자신의 견해를 반영하는 것"
   ]
  },
  {
   "cell_type": "markdown",
   "metadata": {},
   "source": [
    " "
   ]
  },
  {
   "cell_type": "markdown",
   "metadata": {},
   "source": [
    "### 6.2.1 객관적인 사전확률분포\n",
    "\n",
    "객관적인 사전확률분포의 예로 **균등분포**(uniform distribution)가 있다. 이러한 **평평한 사전확률분포**(flat prior)는 각각의 가능한 값에 동일한 비중을 부여할 수 있다. 이런 류의 사전확률 분포는 다음과 같은 **무차별성의 원리**(principle of indifference)이다.\n",
    "\n",
    "> 어떤 값을 특별히 선호할 이유는 없다."
   ]
  },
  {
   "cell_type": "markdown",
   "metadata": {},
   "source": [
    " "
   ]
  },
  {
   "cell_type": "markdown",
   "metadata": {},
   "source": [
    "### 6.2.2 주관적인 사전확률분포\n",
    "\n",
    "사전확률분포의 특정 영역이나 다른 곳에 확률질량(probability mass)을 추가한다면 더 많은 확률질량으로 그 영역에 존재하는 모수에 편향된 추론을 하게 되는데, 이러한 확률분포를 주관적인 사전확률분포라 한다."
   ]
  },
  {
   "cell_type": "code",
   "execution_count": 2,
   "metadata": {},
   "outputs": [],
   "source": [
    "%matplotlib inline\n",
    "import numpy as np\n",
    "from IPython.core.pylabtools import figsize\n",
    "import matplotlib.pyplot as plt\n",
    "import scipy.stats as stats\n",
    "import matplotlib\n",
    "\n",
    "matplotlib.rc('font', family='NanumGothic')  # Linux\n",
    "figsize(12.5, 3)\n",
    "colors = [\"#348ABD\", \"#A60628\", \"#7A68A6\", \"#467821\"]"
   ]
  },
  {
   "cell_type": "code",
   "execution_count": 6,
   "metadata": {},
   "outputs": [
    {
     "data": {
      "image/png": "[encoded data removed]",
      "text/plain": [
       "<Figure size 900x216 with 1 Axes>"
      ]
     },
     "metadata": {},
     "output_type": "display_data"
    }
   ],
   "source": [
    "x = np.linspace(0, 1)\n",
    "y1, y2 = stats.beta.pdf(x, 1, 1), stats.beta.pdf(x, 10, 10)\n",
    "\n",
    "x = np.linspace(0, 1)\n",
    "y1, y2 = stats.beta.pdf(x, 1, 1), stats.beta.pdf(x, 10, 10)\n",
    "\n",
    "p = plt.plot(x, y1,\n",
    "    label='객관적 사전확률\\n(uninformative, \\n\"무차별성의 원리\" )')\n",
    "plt.fill_between(x, 0, y1, color=p[0].get_color(), alpha=0.3)\n",
    "\n",
    "p = plt.plot(x, y2, label=\"주관적 사전확률\\n(informative)\")\n",
    "plt.fill_between(x, 0, y2, color=p[0].get_color(), alpha=0.3)\n",
    "\n",
    "p = plt.plot(x[25:], 2 * np.ones(25), label=\"또 다른 주관적 사전확률\")\n",
    "plt.fill_between(x[25:], 0, 2, color=p[0].get_color(), alpha=0.3)\n",
    "\n",
    "plt.ylim(0, 4)\n",
    "plt.ylim(0, 4)\n",
    "leg = plt.legend(loc=\"upper left\")\n",
    "leg.get_frame().set_alpha(0.4)\n",
    "plt.xlabel(\"값\")\n",
    "plt.ylabel(\"밀도\")\n",
    "plt.title(\"미지의 확률에 대한 객관적 사전확률분포와 주관적 사전확률분포 비교\");"
   ]
  },
  {
   "cell_type": "markdown",
   "metadata": {},
   "source": [
    " "
   ]
  },
  {
   "cell_type": "markdown",
   "metadata": {},
   "source": [
    "### 6.2.3 결정, 결정 ...\n",
    "\n",
    "객관적인 사전확률분포나 주관적인 사전확률분포는 보통 해결하려는 문제에 따라 선택한다. 하지만, 객관적인 사전확률분포와 주관적인 사전확률분포 중 어느 것을 우선적으로 선택해야 하는 경우가 종종 있다. 예를 들어, 과학 연구의 경우 결과에 대한 편향을 제거해야 하므로 객관적인 사전확률분포를 선택하는 것이 당연하다.\n",
    "\n",
    "> 모델이 적합한 이후에는 사후확률분포를 살펴보아야 하고, 이치에 맞는지 확인해야 한다. 만일 사후확률분포가 이치에 맞지 않는다면 모델에 포함되지 않은 사전 정보가 추가로 필요하다는 것을 의미한다. 그리고 이전에 사용한 사전확률분포의 가정에 위배된다는 것을 의미한다. 그래서 이전으로 돌아가 사전확률분포가 외부 정보와 조화되도록 변경하는 것이 적절하다. *-젤먼(Gelman)-*\n",
    "\n",
    "사후확률분포가 우리가 생각한 것과 맞지 않다고 생각하는 것은 곧, 사후확률분포가 어떤 모습이어야 하는지 생각하고 있었으며, 현재의 사전확률분포가 모든 사전 정보를 갖고 있지 않고 업데이트가 필요하다는 것을 의미한다. 이 때 현재의 사전확률분포를 버리고 모든 사전 정보의 여러가지 면을 반영할 수 있다."
   ]
  },
  {
   "cell_type": "markdown",
   "metadata": {},
   "source": [
    " "
   ]
  },
  {
   "cell_type": "markdown",
   "metadata": {},
   "source": [
    "### 6.2.4 경험적 베이즈\n",
    "\n",
    "**경험적 베이즈**(empirical Bayes)는 빈도주의와 베이지안 추론을 결합한 트릭이다. 베이지안과 경험적 베이즈 방법 간의 유의미한 차이는 바로 베이지안 방법은 하이퍼파라미터(hyperparameters) $\\alpha$와 $\\tau$인 사전확률분포를 갖지만, 경험적 베이즈 방법은 사전확률분포에 대한 어떠한 개념도 없다. 경험적 베이즈는 빈도주의 방법으로 $\\alpha$와 $\\tau$를 선택하고, 그런 다음 베이지안 방법으로 문제를 해결한다.\n",
    "\n",
    "간단한 예는 다음과 같다. $\\sigma = 5$인 정규확률분포의 모수 $\\mu$를 추정하고 싶다고 하자. $\\mu$의 범위는 실수이므로 정규확률분포를 $\\mu$에 대한 사전확률분포로 사용할 수 있다. 그리고 사전확률분포의 하이퍼파라미터($\\mu_p, \\sigma_{p}^{2}$)를 선택해야 한다. 모수 $\\sigma_{p}^{2}$는 우리가 가진 불확실성을 반영하도록 선택한다. $\\mu_p$에 대해서는 다음 중 하나를 선택할 수 있다.\n",
    "\n",
    "- 경험적 베이즈는 관측된 경험적 평균 주변에 사전확률분포의 중심을 맞추는 경험적 표본평균을 사용할 것을 권장한다.\n",
    "$$\n",
    "\\mu_p = \\frac{1}{N} \\sum_{i=0}^{N}{X_i}\n",
    "$$\n",
    "\n",
    "- 전통적인 베이즈 추론은 사전적 지식 또는 여러 객관적인 사전확률분포(평균이 0이고 두터운 표준편차)를 사용할 것을 권장한다. \n",
    "\n",
    "객관적인 베이지안 추론에 비해 경험적 베이즈는 덜 객관적일 수 있다. 그 이유는 모수는 데이터를 통해 정해져서 객관적이라 할 수 있지만, 사전확률 모델은 사람이 선택하므로 주관적이기 때문이다.\n",
    "\n",
    "이 책의 저자는 경험적 베이즈 방법은 **데이터를 중복 계산**하고 있다고 말한다. 그 이유는 관측 데이터의 결과에 영향을 준 데이터를 사전확률분포에서 한번 사용하고, MCMC를 이용해 추론할 때 또 한번 사용하기 때문에 불확실성을 과소평가할 수 있기 때문이다. \n",
    "\n",
    "이러한 이유로 저자는 데이터가 적을 경우 사전확률이 지나친 영향력을 가질 수 있어 데이터가 많을 때만 경험적 베이즈를 사용하라고 권한다. 또한 가능하면 $\\sigma_{p}^{2}$를 크게하여 높은 불확실성을 유지할 것을 권한다."
   ]
  },
  {
   "cell_type": "code",
   "execution_count": null,
   "metadata": {},
   "outputs": [],
   "source": []
  }
 ],
 "metadata": {
  "kernelspec": {
   "display_name": "Python 3",
   "language": "python",
   "name": "python3"
  },
  "language_info": {
   "codemirror_mode": {
    "name": "ipython",
    "version": 3
   },
   "file_extension": ".py",
   "mimetype": "text/x-python",
   "name": "python",
   "nbconvert_exporter": "python",
   "pygments_lexer": "ipython3",
   "version": "3.6.5"
  }
 },
 "nbformat": 4,
 "nbformat_minor": 2
}
